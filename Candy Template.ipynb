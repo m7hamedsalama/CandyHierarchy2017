{
 "cells": [
  {
   "cell_type": "markdown",
   "metadata": {},
   "source": [
    "# Project: cleanning - [candy data]\n",
    "### this notebook is for educational purpose . in this notebook we will do some cleanning\n",
    "\n",
    "## Table of Contents\n",
    "<ul>\n",
    "<li><a href=\"#intro\">Introduction</a></li>\n",
    "<li><a href=\"#wrangling\">wrangling</a></li>\n",
    "  \n",
    "</ul>"
   ]
  },
  {
   "cell_type": "markdown",
   "metadata": {},
   "source": [
    "<a id='intro'></a>\n",
    "## Introduction\n",
    "\n",
    "### Dataset Description \n",
    "\n",
    "> i will go through candy data 2017 , this data has :\n",
    "- Internal_ID\n",
    "- Q1-Going Out?: Are you actually going trick or treating yourself? \"has values `Yes or No`\"\n",
    "- Q2-Gender: It has four different options, `Femal ,Male ,Other ,I'd rather not say`\n",
    "- Q3-Age: Numerical field\n",
    "- Q4-Country: Text Field, but users have written their own version of the names. Example, for America, there are entries such as USA, us, US, America so we should consider that while cleanning\n",
    "- Q5-State/Province: Text Field, but users have written their own version of the names. Same as the country data.\n",
    "- Q6-Joy Or Despair: All kinds of chocolate bars are the questions with three distinct options to choose from (Joy, Meh, Despair).\n",
    "- Q7-Joy Other: Text Field to write items not included above that give you JOY. Lots of missing values.\n",
    "- Q8-Despair Other: Text Field ti write items not included above that give you DESPAIR. Lots of missing values.\n",
    "- Q9-Other Comments: Text Field. Lots of missing values.\n",
    "- Q10-Dress: Binary field. Missing values present\n",
    "- Unnamed: 113\n",
    "- Q11-Day: Binary Answer Field. Missing values present\n"
   ]
  },
  {
   "cell_type": "markdown",
   "metadata": {},
   "source": [
    "# 1- import packages and load data"
   ]
  },
  {
   "cell_type": "code",
   "execution_count": 31,
   "metadata": {},
   "outputs": [],
   "source": [
    "import pandas as pd\n",
    "import numpy as np\n",
    "import seaborn as sns\n",
    "import matplotlib as plt\n"
   ]
  },
  {
   "cell_type": "markdown",
   "metadata": {},
   "source": [
    "<a id='wrangling'></a>\n",
    "## Data Wrangling\n",
    "\n",
    "\n",
    "\n",
    "### General Properties"
   ]
  },
  {
   "cell_type": "markdown",
   "metadata": {},
   "source": [
    "# 2- show some general properties for the data "
   ]
  },
  {
   "cell_type": "code",
   "execution_count": 32,
   "metadata": {},
   "outputs": [
    {
     "name": "stderr",
     "output_type": "stream",
     "text": [
      "c:\\Users\\Start Up\\AppData\\Local\\Programs\\Python\\Python312\\Lib\\site-packages\\openpyxl\\worksheet\\_reader.py:329: UserWarning: Unknown extension is not supported and will be removed\n",
      "  warn(msg)\n"
     ]
    },
    {
     "data": {
      "text/plain": [
       "<bound method NDFrame.describe of       Internal ID Q1: GOING OUT? Q2: GENDER Q3: AGE Q4: COUNTRY  \\\n",
       "0        90258773            NaN        NaN     NaN         NaN   \n",
       "1        90272821             No       Male      44        USA    \n",
       "2        90272829            NaN       Male      49         USA   \n",
       "3        90272840             No       Male      40          us   \n",
       "4        90272841             No       Male      23         usa   \n",
       "...           ...            ...        ...     ...         ...   \n",
       "2455     90314359             No       Male      24         USA   \n",
       "2456     90314580             No     Female      33         USA   \n",
       "2457     90314634             No     Female      26        USA    \n",
       "2458     90314658             No       Male      58         Usa   \n",
       "2459     90314802             No     Female      66         usa   \n",
       "\n",
       "     Q5: STATE, PROVINCE, COUNTY, ETC Q6 | 100 Grand Bar  \\\n",
       "0                                 NaN                NaN   \n",
       "1                                  NM                MEH   \n",
       "2                            Virginia                NaN   \n",
       "3                                  or                MEH   \n",
       "4                            exton pa                JOY   \n",
       "...                               ...                ...   \n",
       "2455                               MD                JOY   \n",
       "2456                         New York                MEH   \n",
       "2457                        Tennessee                MEH   \n",
       "2458                   North Carolina                NaN   \n",
       "2459                     Pennsylvania            DESPAIR   \n",
       "\n",
       "     Q6 | Anonymous brown globs that come in black and orange wrappers\\t(a.k.a. Mary Janes)  \\\n",
       "0                                                   NaN                                       \n",
       "1                                               DESPAIR                                       \n",
       "2                                                   NaN                                       \n",
       "3                                               DESPAIR                                       \n",
       "4                                               DESPAIR                                       \n",
       "...                                                 ...                                       \n",
       "2455                                            DESPAIR                                       \n",
       "2456                                            DESPAIR                                       \n",
       "2457                                            DESPAIR                                       \n",
       "2458                                                NaN                                       \n",
       "2459                                            DESPAIR                                       \n",
       "\n",
       "     Q6 | Any full-sized candy bar Q6 | Black Jacks  ... Q8: DESPAIR OTHER  \\\n",
       "0                              NaN              NaN  ...               NaN   \n",
       "1                              JOY              MEH  ...               NaN   \n",
       "2                              NaN              NaN  ...               NaN   \n",
       "3                              JOY              MEH  ...               NaN   \n",
       "4                              JOY          DESPAIR  ...               NaN   \n",
       "...                            ...              ...  ...               ...   \n",
       "2455                           MEH          DESPAIR  ...  Fruit Stripe Gum   \n",
       "2456                           JOY              NaN  ...            Capers   \n",
       "2457                           JOY          DESPAIR  ...               NaN   \n",
       "2458                           NaN              NaN  ...               NaN   \n",
       "2459                           JOY          DESPAIR  ...               NaN   \n",
       "\n",
       "                                     Q9: OTHER COMMENTS      Q10: DRESS  \\\n",
       "0                                                   NaN             NaN   \n",
       "1     Bottom line is Twix is really the only candy w...  White and gold   \n",
       "2                                                   NaN             NaN   \n",
       "3                                Raisins can go to hell  White and gold   \n",
       "4                                                   NaN  White and gold   \n",
       "...                                                 ...             ...   \n",
       "2455                                                NaN  White and gold   \n",
       "2456                                                NaN  Blue and black   \n",
       "2457                                                NaN  Blue and black   \n",
       "2458                                                NaN             NaN   \n",
       "2459  You hit all my chocolate highlights, and broug...  White and gold   \n",
       "\n",
       "     Unnamed: 113 Q11: DAY Q12: MEDIA [Daily Dish] Q12: MEDIA [Science]  \\\n",
       "0             NaN      NaN                     NaN                  NaN   \n",
       "1             NaN   Sunday                     NaN                  1.0   \n",
       "2             NaN      NaN                     NaN                  NaN   \n",
       "3             NaN   Sunday                     NaN                  1.0   \n",
       "4             NaN   Friday                     NaN                  1.0   \n",
       "...           ...      ...                     ...                  ...   \n",
       "2455          NaN   Friday                     NaN                  NaN   \n",
       "2456          NaN   Friday                     NaN                  1.0   \n",
       "2457          NaN   Friday                     NaN                  1.0   \n",
       "2458          NaN      NaN                     NaN                  NaN   \n",
       "2459          NaN   Sunday                     1.0                  NaN   \n",
       "\n",
       "     Q12: MEDIA [ESPN] Q12: MEDIA [Yahoo] Click Coordinates (x, y)  \n",
       "0                  NaN                NaN                      NaN  \n",
       "1                  NaN                NaN                 (84, 25)  \n",
       "2                  NaN                NaN                      NaN  \n",
       "3                  NaN                NaN                 (75, 23)  \n",
       "4                  NaN                NaN                 (70, 10)  \n",
       "...                ...                ...                      ...  \n",
       "2455               NaN                NaN                      NaN  \n",
       "2456               NaN                NaN                 (70, 26)  \n",
       "2457               NaN                NaN                 (67, 35)  \n",
       "2458               NaN                NaN                      NaN  \n",
       "2459               NaN                NaN                 (19, 26)  \n",
       "\n",
       "[2460 rows x 120 columns]>"
      ]
     },
     "execution_count": 32,
     "metadata": {},
     "output_type": "execute_result"
    }
   ],
   "source": [
    "df= pd.read_excel('candyhierarchy2017.xlsx')\n",
    "df.shape\n",
    "df.describe"
   ]
  },
  {
   "cell_type": "markdown",
   "metadata": {},
   "source": [
    "# 3- write summary about what you get form the above functions\n",
    "> #### tips : this summary can be about : if there is any missing values , if there a wrong data type , if there a wrong range of values , ...."
   ]
  },
  {
   "cell_type": "code",
   "execution_count": 33,
   "metadata": {},
   "outputs": [
    {
     "data": {
      "text/plain": [
       "Internal ID                    0\n",
       "Q1: GOING OUT?               110\n",
       "Q2: GENDER                    41\n",
       "Q3: AGE                       84\n",
       "Q4: COUNTRY                   64\n",
       "                            ... \n",
       "Q12: MEDIA [Daily Dish]     2375\n",
       "Q12: MEDIA [Science]        1098\n",
       "Q12: MEDIA [ESPN]           2361\n",
       "Q12: MEDIA [Yahoo]          2393\n",
       "Click Coordinates (x, y)     855\n",
       "Length: 120, dtype: int64"
      ]
     },
     "execution_count": 33,
     "metadata": {},
     "output_type": "execute_result"
    }
   ],
   "source": [
    "df.dtypes\n",
    "\n",
    "df.isnull().sum()\n"
   ]
  },
  {
   "cell_type": "markdown",
   "metadata": {},
   "source": [
    "# cleaning"
   ]
  },
  {
   "cell_type": "markdown",
   "metadata": {},
   "source": [
    "### 4- drop all the useless columns and  rows with too much NaN , \n",
    "> tip : useless columns can be like `Internal ID`and can be also columns with too much NaN \n",
    "- rename columns for easy access"
   ]
  },
  {
   "cell_type": "code",
   "execution_count": 34,
   "metadata": {},
   "outputs": [],
   "source": [
    "columns_to_keep = ['internal_id']  \n",
    " \n",
    "threshold_col = 0.5 * len(df)\n",
    " \n",
    "df = df[[col for col in df.columns if col in columns_to_keep or df[col].notnull().sum() > threshold_col]]\n",
    " \n",
    "threshold_row = 0.7 * len(df.columns)\n",
    " \n",
    "df = df.dropna(thresh=threshold_row)\n",
    "df.drop_duplicates(inplace=True)\n",
    "\n",
    "\n",
    "\n"
   ]
  },
  {
   "cell_type": "markdown",
   "metadata": {},
   "source": [
    "### 5 - clean `going out` column \n",
    "> tip : you should choose which best value to put in place of these NaNs ( mode, unknown,other ....etc)"
   ]
  },
  {
   "cell_type": "code",
   "execution_count": 35,
   "metadata": {},
   "outputs": [
    {
     "name": "stderr",
     "output_type": "stream",
     "text": [
      "C:\\Users\\Start Up\\AppData\\Local\\Temp\\ipykernel_4060\\2800980488.py:2: FutureWarning: A value is trying to be set on a copy of a DataFrame or Series through chained assignment using an inplace method.\n",
      "The behavior will change in pandas 3.0. This inplace method will never work because the intermediate object on which we are setting values always behaves as a copy.\n",
      "\n",
      "For example, when doing 'df[col].method(value, inplace=True)', try using 'df.method({col: value}, inplace=True)' or df[col] = df[col].method(value) instead, to perform the operation inplace on the original object.\n",
      "\n",
      "\n",
      "  df['Q1: GOING OUT?'].fillna('No',inplace=True)\n"
     ]
    }
   ],
   "source": [
    "df['Q1: GOING OUT?'].value_counts()\n",
    "df['Q1: GOING OUT?'].fillna('No',inplace=True)"
   ]
  },
  {
   "cell_type": "markdown",
   "metadata": {},
   "source": [
    "### 6 - clean ` gender` column \n",
    "> tip : you should choose which best value to put in place of these NaNs ( mode, unknown,other ....etc)"
   ]
  },
  {
   "cell_type": "code",
   "execution_count": 36,
   "metadata": {},
   "outputs": [
    {
     "name": "stderr",
     "output_type": "stream",
     "text": [
      "C:\\Users\\Start Up\\AppData\\Local\\Temp\\ipykernel_4060\\782360018.py:2: FutureWarning: A value is trying to be set on a copy of a DataFrame or Series through chained assignment using an inplace method.\n",
      "The behavior will change in pandas 3.0. This inplace method will never work because the intermediate object on which we are setting values always behaves as a copy.\n",
      "\n",
      "For example, when doing 'df[col].method(value, inplace=True)', try using 'df.method({col: value}, inplace=True)' or df[col] = df[col].method(value) instead, to perform the operation inplace on the original object.\n",
      "\n",
      "\n",
      "  df['Q2: GENDER'].fillna('Other',inplace=True)\n"
     ]
    }
   ],
   "source": [
    "df['Q2: GENDER'].value_counts()\n",
    "df['Q2: GENDER'].fillna('Other',inplace=True)"
   ]
  },
  {
   "cell_type": "markdown",
   "metadata": {},
   "source": [
    "### 7 - clean ` age` column \n",
    "> tip : note the type of age column , and NaN values\n",
    " - try to use `to_numeric` \n",
    " - tip : you should choose which best value to put in place of these NaNs ( mean, median, ....etc)"
   ]
  },
  {
   "cell_type": "code",
   "execution_count": 37,
   "metadata": {},
   "outputs": [
    {
     "name": "stderr",
     "output_type": "stream",
     "text": [
      "C:\\Users\\Start Up\\AppData\\Local\\Temp\\ipykernel_4060\\3413834543.py:18: FutureWarning: Downcasting behavior in `replace` is deprecated and will be removed in a future version. To retain the old behavior, explicitly call `result.infer_objects(copy=False)`. To opt-in to the future behavior, set `pd.set_option('future.no_silent_downcasting', True)`\n",
      "  df['Q3: AGE']=df['Q3: AGE'].replace(\"24-50\" ,np.nan)\n"
     ]
    },
    {
     "data": {
      "text/html": [
       "<div>\n",
       "<style scoped>\n",
       "    .dataframe tbody tr th:only-of-type {\n",
       "        vertical-align: middle;\n",
       "    }\n",
       "\n",
       "    .dataframe tbody tr th {\n",
       "        vertical-align: top;\n",
       "    }\n",
       "\n",
       "    .dataframe thead th {\n",
       "        text-align: right;\n",
       "    }\n",
       "</style>\n",
       "<table border=\"1\" class=\"dataframe\">\n",
       "  <thead>\n",
       "    <tr style=\"text-align: right;\">\n",
       "      <th></th>\n",
       "      <th>Q3: AGE</th>\n",
       "    </tr>\n",
       "  </thead>\n",
       "  <tbody>\n",
       "    <tr>\n",
       "      <th>1</th>\n",
       "      <td>44.000000</td>\n",
       "    </tr>\n",
       "    <tr>\n",
       "      <th>3</th>\n",
       "      <td>40.000000</td>\n",
       "    </tr>\n",
       "    <tr>\n",
       "      <th>4</th>\n",
       "      <td>23.000000</td>\n",
       "    </tr>\n",
       "    <tr>\n",
       "      <th>5</th>\n",
       "      <td>43.499114</td>\n",
       "    </tr>\n",
       "    <tr>\n",
       "      <th>7</th>\n",
       "      <td>33.000000</td>\n",
       "    </tr>\n",
       "    <tr>\n",
       "      <th>...</th>\n",
       "      <td>...</td>\n",
       "    </tr>\n",
       "    <tr>\n",
       "      <th>2454</th>\n",
       "      <td>26.000000</td>\n",
       "    </tr>\n",
       "    <tr>\n",
       "      <th>2455</th>\n",
       "      <td>24.000000</td>\n",
       "    </tr>\n",
       "    <tr>\n",
       "      <th>2456</th>\n",
       "      <td>33.000000</td>\n",
       "    </tr>\n",
       "    <tr>\n",
       "      <th>2457</th>\n",
       "      <td>26.000000</td>\n",
       "    </tr>\n",
       "    <tr>\n",
       "      <th>2459</th>\n",
       "      <td>66.000000</td>\n",
       "    </tr>\n",
       "  </tbody>\n",
       "</table>\n",
       "<p>1736 rows × 1 columns</p>\n",
       "</div>"
      ],
      "text/plain": [
       "        Q3: AGE\n",
       "1     44.000000\n",
       "3     40.000000\n",
       "4     23.000000\n",
       "5     43.499114\n",
       "7     33.000000\n",
       "...         ...\n",
       "2454  26.000000\n",
       "2455  24.000000\n",
       "2456  33.000000\n",
       "2457  26.000000\n",
       "2459  66.000000\n",
       "\n",
       "[1736 rows x 1 columns]"
      ]
     },
     "execution_count": 37,
     "metadata": {},
     "output_type": "execute_result"
    }
   ],
   "source": [
    "df['Q3: AGE'].dtypes\n",
    "df['Q3: AGE'].value_counts()\n",
    "df['Q3: AGE']=df['Q3: AGE'].replace('ancient',66)\n",
    "df['Q3: AGE']=df['Q3: AGE'].replace('old enough',66)\n",
    "df['Q3: AGE']=df['Q3: AGE'].replace('I can remember when Java was a cool new language',np.nan)\n",
    "df['Q3: AGE']=df['Q3: AGE'].replace('MY NAME JEFF',np.nan)\n",
    "df['Q3: AGE']=df['Q3: AGE'].replace('OLD',66)\n",
    "df['Q3: AGE']=df['Q3: AGE'].replace( 'Over 50',np.nan)\n",
    "df['Q3: AGE']=df['Q3: AGE'].replace(\"Old enough\" ,66)\n",
    "df['Q3: AGE']=df['Q3: AGE'].replace(\"Many\",np.nan)\n",
    "df['Q3: AGE']=df['Q3: AGE'].replace(\"?\",np.nan)\n",
    "df['Q3: AGE']=df['Q3: AGE'].replace(\"no\",np.nan)\n",
    "df['Q3: AGE']=df['Q3: AGE'].replace(\"45-55\",np.nan)\n",
    "df['Q3: AGE']=df['Q3: AGE'].replace(\"hahahahaha\",np.nan)\n",
    "df['Q3: AGE']=df['Q3: AGE'].replace(\"older than dirt\",np.nan)\n",
    "df['Q3: AGE']=df['Q3: AGE'].replace( \"Enough\",np.nan)\n",
    "df['Q3: AGE']=df['Q3: AGE'].replace( \"See question 2\" ,np.nan)\n",
    "df['Q3: AGE']=df['Q3: AGE'].replace(\"24-50\" ,np.nan)\n",
    "\n",
    "df['Q3: AGE']=pd.to_numeric(df['Q3: AGE'])\n",
    "\n",
    "\n",
    "mean_value = df['Q3: AGE'].mean()\n",
    "df['Q3: AGE']=df['Q3: AGE'].fillna(mean_value)\n",
    " \n",
    "df['Q3: AGE'].value_counts()\n",
    "\n",
    "df[['Q3: AGE']]\n"
   ]
  },
  {
   "cell_type": "markdown",
   "metadata": {},
   "source": [
    "### 8 - clean ` country` column\n",
    "> tip : note that country column has country names with different writing ways \n",
    "  - use fuzzywuzzy to deal with this problem\n",
    "  - you should choose which best value to put in place of these NaNs ( mode, unknown,other ....etc)"
   ]
  },
  {
   "cell_type": "code",
   "execution_count": 38,
   "metadata": {},
   "outputs": [
    {
     "name": "stdout",
     "output_type": "stream",
     "text": [
      "Q4: COUNTRY\n",
      "United States     1352\n",
      "Canada             161\n",
      "Australia          144\n",
      "Unknown             18\n",
      "South Korea         17\n",
      "Germany             13\n",
      "Mexico               9\n",
      "United Kingdom       7\n",
      "Japan                5\n",
      "France               4\n",
      "China                4\n",
      "Egypt                2\n",
      "Name: count, dtype: int64\n"
     ]
    },
    {
     "data": {
      "text/plain": [
       "Q4: COUNTRY\n",
       "United States     1352\n",
       "Canada             161\n",
       "Australia          144\n",
       "Unknown             18\n",
       "South Korea         17\n",
       "Germany             13\n",
       "Mexico               9\n",
       "United Kingdom       7\n",
       "Japan                5\n",
       "France               4\n",
       "China                4\n",
       "Egypt                2\n",
       "Name: count, dtype: int64"
      ]
     },
     "execution_count": 38,
     "metadata": {},
     "output_type": "execute_result"
    }
   ],
   "source": [
    "df['Q4: COUNTRY'].unique()\n",
    "df['Q4: COUNTRY'].value_counts()\n",
    "import pandas as pd\n",
    "from fuzzywuzzy import process\n",
    "\n",
    " \n",
    "data = {\n",
    "     'Q4: COUNTRY': [\n",
    "        'USA ', 'us', 'usa', None, 'canada', 'Canada', 'Us', 'US', 'Murica',\n",
    "        'USA', 'United States', 'united states', 'Usa', 'United staes',\n",
    "        'United Kingdom', 'United States of America', 'UAE',\n",
    "        'United States ', 'canada ', 'United states', 'u.s.a.',\n",
    "        'USAUSAUSA', 'america', 'france', 'United States of America ',\n",
    "        'U.S.A.', 'Mexico', 'Canada ', 'united states of america',\n",
    "        'US of A', 'UK', 'Unites States', 'North Carolina ', 'uk',\n",
    "        'Netherlands', 'Europe', 'Earth', 'U S', 'u.s.', 'Costa Rica',\n",
    "        'The United States of America', 'cascadia', 'insanity lately',\n",
    "        'Greece', 'The United States', 'USA? Hard to tell anymore..',\n",
    "        \"'merica\", 'Pittsburgh', 'United State', 'France', 'U.S.', 'A',\n",
    "        'Can', 'Canae', 'New York', 'Trumpistan', 'Ireland',\n",
    "        'United Sates', 'Korea', 'Australia', 'California', 'Japan', 'USa',\n",
    "        'I pretend to be from Canada, but I am really from the United States.',\n",
    "        'Usa ', 'Iceland', 'Canada`', 'Scotland', 'Denmark', 'France ',\n",
    "        'Switzerland', 'Ahem....Amerca', 'South Korea', 'New Jersey',\n",
    "        'CANADA', 'United Stated', 'Germany', 'America', 'United Statss',\n",
    "        'endland', 'Atlantis', 'murrika', 'united States ', 'germany',\n",
    "        'N. America', 'USSA', 'Taiwan', 'China', 'spain', 'U.S. ',\n",
    "        'Narnia', 'u s a', 'United Statea',\n",
    "        'subscribe to dm4uz3 on youtube', 'USA USA USA!!!!',\n",
    "        \"I don't know anymore\", 'Fear and Loathing'\n",
    "    ]\n",
    "}\n",
    "\n",
    " \n",
    "dff = pd.DataFrame(data)\n",
    "\n",
    " \n",
    "standard_countries = [\"United States\", \"Canada\", \"Mexico\", \"United Kingdom\", \"France\", \"Germany\", \"Egypt\", \"Australia\", \"China\", \"Japan\", \"South Korea\"]\n",
    "\n",
    " \n",
    "def clean_country_name(country_name, standard_countries):\n",
    "    if pd.isna(country_name):\n",
    "        return 'Unknown'   \n",
    "    \n",
    "    \n",
    "    match = process.extractOne(country_name.strip(), standard_countries)\n",
    "    \n",
    "     \n",
    "    return match[0] if match else 'Unknown'\n",
    "\n",
    " \n",
    "df['Q4: COUNTRY'] = df['Q4: COUNTRY'].apply(lambda x: clean_country_name(x, standard_countries))\n",
    "\n",
    " \n",
    "print(df['Q4: COUNTRY'].value_counts())\n",
    "df[ 'Q4: COUNTRY']=df[ 'Q4: COUNTRY'].fillna('United States')\n",
    "df[ 'Q4: COUNTRY'].value_counts()"
   ]
  },
  {
   "cell_type": "markdown",
   "metadata": {},
   "source": [
    "### 9 - clean ` area` column\n",
    "> tip : area column has the same problem as country columns , but looking at all it's unique values may give us another way to deal with it rather than try to fix it"
   ]
  },
  {
   "cell_type": "code",
   "execution_count": 39,
   "metadata": {},
   "outputs": [
    {
     "name": "stdout",
     "output_type": "stream",
     "text": [
      "Q5: STATE, PROVINCE, COUNTY, ETC\n",
      "Other                        366\n",
      "California                   253\n",
      "Illinois                      80\n",
      "Ontario                       58\n",
      "Michigan                      53\n",
      "Washington                    52\n",
      "Texas                         51\n",
      "Oregon                        49\n",
      "Ohio                          44\n",
      "Delaware                      44\n",
      "New York                      42\n",
      "Pennsylvania                  38\n",
      "Alabama                       37\n",
      "Colorado                      36\n",
      "Florida                       36\n",
      "Massachusetts                 35\n",
      "Wisconsin                     31\n",
      "Nevada                        29\n",
      "Virginia                      28\n",
      "Alberta                       26\n",
      "Arizona                       26\n",
      "Maryland                      19\n",
      "Connecticut                   19\n",
      "Minnesota                     19\n",
      "Montana                       19\n",
      "Maine                         19\n",
      "Indiana                       18\n",
      "Georgia                       16\n",
      "North Carolina                16\n",
      "Missouri                      15\n",
      "British Columbia              13\n",
      "New Jersey                    13\n",
      "Iowa                          12\n",
      "Utah                          11\n",
      "Kentucky                      11\n",
      "Kansas                        10\n",
      "Oklahoma                      10\n",
      "Tennessee                      9\n",
      "Louisiana                      7\n",
      "Idaho                          6\n",
      "Hawaii                         5\n",
      "Nebraska                       5\n",
      "Quebec                         5\n",
      "South Carolina                 5\n",
      "New Mexico                     4\n",
      "Arkansas                       4\n",
      "Wyoming                        3\n",
      "New Hampshire                  3\n",
      "West Virginia                  3\n",
      "North Dakota                   3\n",
      "Rhode Island                   3\n",
      "Vermont                        3\n",
      "District of Columbia           2\n",
      "Nova Scotia                    2\n",
      "Alaska                         2\n",
      "Newfoundland and Labrador      2\n",
      "South Dakota                   2\n",
      "Manitoba                       2\n",
      "Mississippi                    1\n",
      "Saskatchewan                   1\n",
      "Name: count, dtype: int64\n"
     ]
    }
   ],
   "source": [
    "import pandas as pd\n",
    "from fuzzywuzzy import process\n",
    " \n",
    "\n",
    "\n",
    "data = {'Q4 : COUNTRY': [\n",
    "    'NM', 'or', 'exton pa', None, 'ontario', 'Ontario', 'Wa', 'Quebec',\n",
    "    'NY', 'California', 'Texas', 'NEW YORK', 'CO', 'Alberta', 'RI',\n",
    "    'minnesota', 'Michigan', 'Florida', 'New Jersey', 'Colorado',\n",
    "    'Los Angeles, California', 'CA', 'Chicago, Illinois', 'Wisconsin',\n",
    "    'Minnesota ', 'London', 'mn', 'TEXAS', 'District of Columbia',\n",
    "    'Washington', 'Massachusetts ', 'OR', 'Illinois', 'New York',\n",
    "    'massachusetts', 'Abu Dhabi', 'TX', 'Dc', 'VA', 'MN', 'yukon',\n",
    "    'Pennsylvania ', 'MD', 'Virginia', 'Alberta ', 'DC', 'Iowa', 'Mn',\n",
    "    'TN', 'Ohio', 'Maryland', 'MI', 'Wisconsin ',\n",
    "    'Colorado, Jefferson county ', 'Louisiana', 'pa',\n",
    "    'CO, Larimer County', 'Nebraska ', 'Oregon', 'UT', 'ny',\n",
    "    'Pennsylvania', 'north carolina', 'Tennessee ',\n",
    "    'Knox county, Tennessee', 'New Mexico', 'Maine', 'maine',\n",
    "    'Virginia, Arlington', 'WA', 'Illinois ', 'Il', 'New Hampshire ',\n",
    "    'Washington ', 'Georgia', 'IL', 'BC', 'Oregon ',\n",
    "    'Washington, Clark ', 'NE', 'Oklahoma', 'mi', 'Nevada', 'va',\n",
    "    'California ', 'Oregon - but will be in Washington for Halloween',\n",
    "    'Ri', 'Washington, King', 'MA', 'wa', 'PA', 'md', 'North Carolina',\n",
    "    'pennsylvania', 'PEnnsylvania', 'Alabama', 'GA', 'california ',\n",
    "    'South Carolina', 'Massachusetts', 'Baja California', 'IN', 'Ny',\n",
    "    'illinois', 'Santa Cruz County, California', 'MARYLAND',\n",
    "    'North Dakota', 'NC', 'Colorado ', 'Kansas ', 'Oxfordshire',\n",
    "    'British Columbia', 'Nebraska', 'West Virginia', 'USA ', 'ohio',\n",
    "    'ma', 'nc', 'Minnesota', 'Bc', 'philadelphia', 'Kentucky', 'HI',\n",
    "    'South Holland', 'Massachusetts, Plymouth county', 'hi', 'Co',\n",
    "    'New York ', 'vt', 'CA, Alameda', 'Utah', 'FL',\n",
    "    'Michigan, Shiawassee County', 'Missouri', 'Indiana', 'wisconsin',\n",
    "    'Idaho ada', 'La', 'America', 'Hawaii', 'California, Alameda',\n",
    "    'Az', 'Arizona', 'VT', 'Sub Earth', 'North dakota', 'virginia',\n",
    "    'Ca', 'MO', 'alameda county, california', 'Greater London',\n",
    "    'Texas ', 'bc', 'WV, Kanawha County ', 'Florida ', 'ca',\n",
    "    'Washington State', 'Alaska', 'Washington, King County',\n",
    "    'San Jose', 'florida', 'AZ', 'Connecticut', 'New Jersey ', 'ON',\n",
    "    'South Carolina ', 'texas', 'newfoundland', 'AB', 'mississippi',\n",
    "    'Oklahoma ', 'washington', 'Manchester', 'cascadia', 'in',\n",
    "    'rhode island', 'Ohio ', 'Pa', 'FL ', 'CT',\n",
    "    'oblivion if things keep going this way', 'Montana', 'connecticut',\n",
    "    'British Columbia ', 'Nunya, Bizness, USA', 'OH',\n",
    "    'Washington state', 'Oakland, California', 'Ontario,  Canada',\n",
    "    'phoenix, maricopa county, arizona', 'Merlin', 'NS',\n",
    "    'Washington state, Kitsap County', 'cailifornia', 'QC',\n",
    "    'Missouri ', 'Pittsburgh pa', 'Washington, seattle, king',\n",
    "    'Massachussets ', 'NJ', 'Derbyshire', 'Whatcom County, WA', 'Mt',\n",
    "    'NH', 'Ma', 'KS', 'Oakland County, Michigan', 'Marne',\n",
    "    'Noord-Holland', 'Tennessee, Knox County', 'Henrico, VA',\n",
    "    'Washington State, King County, City of Seattle', 'Washington, DC',\n",
    "    'nyc', 'Brooklyn', 'Santa Barbara co. California', 'Maryland ',\n",
    "    'Ky', 'New Orleans la ', 'COLORADO', 'Nh', 'A', 'ri',\n",
    "    'Kalamazoo County, MI', 'OREGON', 'Wi', 'Ontario ', 'wv',\n",
    "    'ulster county, NY', 'NJ, Gloucester', 'Mi', 'calif', 'Or', 'tn',\n",
    "    'MS', 'Queens', 'Vermont', 'Kildare', 'Vermont ', 'ND',\n",
    "    'tennessee', 'Washington DC', 'oregon', 'Kings, New York ', 'Cook',\n",
    "    'Toronto, Ontario', 'Victoria', 'Virginia ', 'On', 'nova scotia',\n",
    "    'Tehama', 'suffolk county ny', 'Santa Clara County, California',\n",
    "    'SC', 'louisiana', 'Md', 'IA', 'Colorado larimer county', 'Tokyo',\n",
    "    'ont', 'tx', 'Califor', 'Idaho', 'Kansas', 'NV',\n",
    "    'Brooklyn, kings county ny', 'california', 'WI',\n",
    "    'Carver county, MN', 'DUTCHESS COUNTY NY', 'Ny ', 'Wyoming ',\n",
    "    'colorado', 'british columbia', 'California, San Francisco',\n",
    "    'Glendora, Los Angeles, California', 'Edinburgh', 'Strathclyde',\n",
    "    'Ørbæk', 'Idf', 'Osaka', 'Surrey', 'Vaud', 'Arizona ', 'Michigan ']}\n",
    "\n",
    "\n",
    "\n",
    "\n",
    "dfff = pd.DataFrame(data)\n",
    "\n",
    "\n",
    "reference_areas = [\n",
    "    \n",
    "    'Alabama', 'Alaska', 'Arizona', 'Arkansas', 'California', 'Colorado',\n",
    "    'Connecticut', 'Delaware', 'Florida', 'Georgia', 'Hawaii', 'Idaho',\n",
    "    'Illinois', 'Indiana', 'Iowa', 'Kansas', 'Kentucky', 'Louisiana',\n",
    "    'Maine', 'Maryland', 'Massachusetts', 'Michigan', 'Minnesota',\n",
    "    'Mississippi', 'Missouri', 'Montana', 'Nebraska', 'Nevada',\n",
    "    'New Hampshire', 'New Jersey', 'New Mexico', 'New York',\n",
    "    'North Carolina', 'North Dakota', 'Ohio', 'Oklahoma', 'Oregon',\n",
    "    'Pennsylvania', 'Rhode Island', 'South Carolina', 'South Dakota',\n",
    "    'Tennessee', 'Texas', 'Utah', 'Vermont', 'Virginia', 'Washington',\n",
    "    'West Virginia', 'Wisconsin', 'Wyoming',\n",
    "\n",
    "    'Alberta', 'British Columbia', 'Manitoba', 'New Brunswick',\n",
    "    'Newfoundland and Labrador', 'Nova Scotia', 'Ontario', 'Prince Edward Island',\n",
    "    'Quebec', 'Saskatchewan',\n",
    "    \n",
    "    'District of Columbia', 'Unknown', 'Other']\n",
    "\n",
    "\n",
    "\n",
    "def clean_area(value, reference_areas):\n",
    "    if pd.isna(value) or value.strip().lower() in ['unknown', 'random text', '12345']:\n",
    "        return \"Unknown\"\n",
    "    match = process.extractOne(value, reference_areas, score_cutoff=80)  \n",
    "    return match[0] if match else \"Other\"\n",
    "\n",
    "\n",
    "df['Q5: STATE, PROVINCE, COUNTY, ETC'] = df['Q5: STATE, PROVINCE, COUNTY, ETC'].apply(lambda x: clean_area(str(x), reference_areas))\n",
    "\n",
    "\n",
    "print(df['Q5: STATE, PROVINCE, COUNTY, ETC'].value_counts())\n"
   ]
  },
  {
   "cell_type": "markdown",
   "metadata": {},
   "source": [
    "### 10 - clean ` Q6` columns\n",
    ">- tip : Q6 has all kinds of chocolate bars and questions with three distinct options to choose from (Joy, Meh, Despair).\n",
    "- so all the column that has Q6 is a candy name , so you should go through all these column and you should choose which best value to put in place of these NaNs ( mode, unknown,other ....etc)"
   ]
  },
  {
   "cell_type": "code",
   "execution_count": 40,
   "metadata": {},
   "outputs": [
    {
     "name": "stderr",
     "output_type": "stream",
     "text": [
      "c:\\Users\\Start Up\\AppData\\Local\\Programs\\Python\\Python312\\Lib\\site-packages\\IPython\\core\\events.py:82: UserWarning: Glyph 9 (\t) missing from font(s) DejaVu Sans.\n",
      "  func(*args, **kwargs)\n",
      "c:\\Users\\Start Up\\AppData\\Local\\Programs\\Python\\Python312\\Lib\\site-packages\\IPython\\core\\pylabtools.py:170: UserWarning: Glyph 9 (\t) missing from font(s) DejaVu Sans.\n",
      "  fig.canvas.print_figure(bytes_io, **kw)\n"
     ]
    },
    {
     "data": {
      "image/png": "[encoded data removed]",
      "text/plain": [
       "<Figure size 640x480 with 1 Axes>"
      ]
     },
     "metadata": {},
     "output_type": "display_data"
    }
   ],
   "source": [
    "df['Q6 | Anonymous brown globs that come in black and orange wrappers\\t(a.k.a. Mary Janes)'].value_counts()\n",
    "df['Q6 | Anonymous brown globs that come in black and orange wrappers\\t(a.k.a. Mary Janes)']=df['Q6 | Anonymous brown globs that come in black and orange wrappers\\t(a.k.a. Mary Janes)'].fillna('DESPAIR')\n",
    "most_kind_ofchocolate=df['Q6 | Anonymous brown globs that come in black and orange wrappers\\t(a.k.a. Mary Janes)'].value_counts().plot(kind='bar')"
   ]
  },
  {
   "cell_type": "markdown",
   "metadata": {},
   "source": [
    "### 11 - clean ` dress` column\n",
    ">tip : you should choose which best value to put in place of these NaNs ( mode, unknown,other ....etc)"
   ]
  },
  {
   "cell_type": "code",
   "execution_count": 41,
   "metadata": {},
   "outputs": [
    {
     "name": "stdout",
     "output_type": "stream",
     "text": [
      "Q10: DRESS\n",
      "White and gold    1046\n",
      "Blue and black     615\n",
      "Name: count, dtype: int64\n",
      "Q10: DRESS\n",
      "White and gold    1121\n",
      "Blue and black     615\n",
      "Name: count, dtype: int64\n"
     ]
    }
   ],
   "source": [
    "print(df['Q10: DRESS'].value_counts())\n",
    "df['Q10: DRESS']=df['Q10: DRESS'].fillna('White and gold')\n",
    "print(df['Q10: DRESS'].value_counts())"
   ]
  },
  {
   "cell_type": "markdown",
   "metadata": {},
   "source": [
    "### 12 - clean ` day` column\n",
    ">tip : you should choose which best value to put in place of these NaNs ( mode, unknown,other ....etc)"
   ]
  },
  {
   "cell_type": "code",
   "execution_count": 42,
   "metadata": {},
   "outputs": [
    {
     "name": "stdout",
     "output_type": "stream",
     "text": [
      "Q11: DAY\n",
      "Friday    1056\n",
      "Sunday     622\n",
      "Name: count, dtype: int64\n",
      "Q11: DAY\n",
      "Friday    1114\n",
      "Sunday     622\n",
      "Name: count, dtype: int64\n"
     ]
    }
   ],
   "source": [
    "print(df['Q11: DAY'].value_counts())\n",
    "df['Q11: DAY']=df['Q11: DAY'].fillna('Friday')\n",
    "print(df['Q11: DAY'].value_counts())"
   ]
  },
  {
   "cell_type": "markdown",
   "metadata": {},
   "source": [
    "### 13 - check\n",
    "> after finish cleaning you should make sure your data is clean and that :\n",
    "- there is no wrong data type\n",
    "- there is no NaN values \n",
    "- all the column are cleaing and ready for the next step `EDA`"
   ]
  },
  {
   "cell_type": "code",
   "execution_count": 44,
   "metadata": {},
   "outputs": [
    {
     "data": {
      "text/plain": [
       "Internal ID                     0\n",
       "Q1: GOING OUT?                  0\n",
       "Q2: GENDER                      0\n",
       "Q3: AGE                         0\n",
       "Q4: COUNTRY                     0\n",
       "                               ..\n",
       "Q6 | York Peppermint Patties    0\n",
       "Q10: DRESS                      0\n",
       "Q11: DAY                        0\n",
       "Q12: MEDIA [Science]            0\n",
       "Click Coordinates (x, y)        0\n",
       "Length: 113, dtype: int64"
      ]
     },
     "execution_count": 44,
     "metadata": {},
     "output_type": "execute_result"
    }
   ],
   "source": [
    "df['Q6 | York Peppermint Patties'].value_counts()\n",
    "df['Q6 | York Peppermint Patties']=df['Q6 | York Peppermint Patties'].fillna('JOY')\n",
    "df['Q12: MEDIA [Science]'].value_counts() \n",
    "df['Q12: MEDIA [Science]']=df['Q12: MEDIA [Science]'].fillna(1)\n",
    "df['Click Coordinates (x, y)'].value_counts()\n",
    "df['Click Coordinates (x, y)']=df['Click Coordinates (x, y)'].fillna('(77, 24)')\n",
    "df.isna().sum()"
   ]
  },
  {
   "cell_type": "markdown",
   "metadata": {},
   "source": [
    "### 14 - write a summary about all the cleaning steps "
   ]
  },
  {
   "cell_type": "code",
   "execution_count": null,
   "metadata": {},
   "outputs": [],
   "source": [
    "First, we start by displaying the data we have to take a look at it. If there are columns or rows that have no value or most of them are empty, we delete them. \n",
    "Then we examine each column separately. We see the type of the column. If there is a difference in the type of the column, we must unify it. \n",
    "Each column must have its own type. For example, if it is ordered, it is float. Thus, we see the Nan values in each column. We calculate the Nan values according to how we deal with each column, from replacing them with the maximum value in the column or other. If they will affect the column, \n",
    "they must be replaced with the most appropriate value so that they do not affect the column. If they are extreme values, they must be deleted.\n",
    " If there are inappropriate column names, they must be changed. If there are repeated rows or columns, they must be deleted. If there are similar names that indicate the same thing, they must be unified as we dealt with Country. \n",
    " If there is a date, it must be given the correct format."
   ]
  },
  {
   "cell_type": "code",
   "execution_count": 47,
   "metadata": {},
   "outputs": [
    {
     "data": {
      "text/plain": [
       "<Axes: >"
      ]
     },
     "execution_count": 47,
     "metadata": {},
     "output_type": "execute_result"
    },
    {
     "data": {
      "image/png": "[encoded data removed]",
      "text/plain": [
       "<Figure size 640x480 with 1 Axes>"
      ]
     },
     "metadata": {},
     "output_type": "display_data"
    }
   ],
   "source": [
    "chocolate=df.filter(like='Q6')\n",
    "joy_counts=(chocolate=='JOY').sum()\n",
    "DESPAIR_counts=(chocolate=='DESPAIR').sum()\n",
    "the_10_most_loved=joy_counts.sort_values(ascending=False).head(10)\n",
    "the_10_most_loved.plot(kind='bar')"
   ]
  },
  {
   "cell_type": "code",
   "execution_count": 48,
   "metadata": {},
   "outputs": [
    {
     "data": {
      "text/plain": [
       "<Axes: >"
      ]
     },
     "execution_count": 48,
     "metadata": {},
     "output_type": "execute_result"
    },
    {
     "data": {
      "image/png": "[encoded data removed]",
      "text/plain": [
       "<Figure size 640x480 with 1 Axes>"
      ]
     },
     "metadata": {},
     "output_type": "display_data"
    }
   ],
   "source": [
    "the_10_least_like_chocolate=DESPAIR_counts.sort_values(ascending=False).head(10)\n",
    "the_10_least_like_chocolate.plot(kind='bar')\n"
   ]
  },
  {
   "cell_type": "code",
   "execution_count": null,
   "metadata": {},
   "outputs": [],
   "source": []
  }
 ],
 "metadata": {
  "kernelspec": {
   "display_name": "Python 3",
   "language": "python",
   "name": "python3"
  },
  "language_info": {
   "codemirror_mode": {
    "name": "ipython",
    "version": 3
   },
   "file_extension": ".py",
   "mimetype": "text/x-python",
   "name": "python",
   "nbconvert_exporter": "python",
   "pygments_lexer": "ipython3",
   "version": "3.12.4"
  }
 },
 "nbformat": 4,
 "nbformat_minor": 4
}
